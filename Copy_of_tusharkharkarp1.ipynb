{
  "nbformat": 4,
  "nbformat_minor": 0,
  "metadata": {
    "colab": {
      "provenance": [],
      "authorship_tag": "ABX9TyMsENruqQrtoTHHCEIXMWB0",
      "include_colab_link": true
    },
    "kernelspec": {
      "name": "python3",
      "display_name": "Python 3"
    },
    "language_info": {
      "name": "python"
    }
  },
  "cells": [
    {
      "cell_type": "markdown",
      "metadata": {
        "id": "view-in-github",
        "colab_type": "text"
      },
      "source": [
        "<a href=\"https://colab.research.google.com/github/tusharrkharkar/project1/blob/main/Copy_of_tusharkharkarp1.ipynb\" target=\"_parent\"><img src=\"https://colab.research.google.com/assets/colab-badge.svg\" alt=\"Open In Colab\"/></a>"
      ]
    },
    {
      "cell_type": "markdown",
      "source": [
        "##### **Project Name**    - AirBnb Booking Analysis\n",
        "##### **Project Type**    - EDA\n",
        "##### **Contribution**    - Individual\n",
        "##### **Name**            - Tushar Ramchandraji kharkar"
      ],
      "metadata": {
        "id": "jk9pcWxXcKix"
      }
    },
    {
      "cell_type": "markdown",
      "source": [
        "# **Project Summary -**\n",
        "                   Title: \"Revealing Hidden Patterns in Airbnb Booking Behaviors: A Data-Driven Exploration\"*\n",
        "\n",
        "Description:\n",
        "\n",
        "The \"Revealing Hidden Patterns in Airbnb Booking Behaviors\" project is a comprehensive and data-driven initiative aimed at unraveling intricate trends, behaviors, and determinants that underlie bookings on the globally renowned Airbnb platform. In an era where the sharing economy continues to reshape the hospitality landscape, understanding the nuances of Airbnb booking dynamics is essential for hosts, travelers, and investors seeking to navigate this dynamic ecosystem effectively.\n",
        "\n",
        "This project embarks on an extensive exploration of diverse data sources associated with Airbnb bookings, utilizing advanced data analytics methodologies to answer critical questions and provide valuable insights into various aspects of the platform."
      ],
      "metadata": {
        "id": "BDuUEUtocTAJ"
      }
    }
  ]
}